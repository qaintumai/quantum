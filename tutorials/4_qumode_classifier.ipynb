{
 "cells": [
  {
   "cell_type": "markdown",
   "id": "97b10033",
   "metadata": {},
   "source": [
    "**qAIntum.ai**\n",
    "\n",
    "# **Quantum Neural Network (QNN) 4-qumode MNIST Classifier Tutorial**\n",
    "\n",
    "This note is an example of using Photonic Analog (PA) QNN for multi output classification. This is an application of the original work [\"Continuous Variable Quantum MNIST Classifiers\"](https://arxiv.org/abs/2204.01194). Classical and Continuous Variable Quantum hybrid network: Classical layers using keras dense and quantum layers using Pennylane\n",
    "\n",
    "Compared to Classical Neural Networks, PA QNNs have a reduced number of parameters to train and converge faster with fewer epochs. However, this is a quantum algorithm simulated on classical computers hence the training time for quantum circuits tend to be longer than classical models.\n",
    "\n",
    "The dataset used in this example can be found https://yann.lecun.com/exdb/mnist/.\n",
    "\n",
    "This file is organized in the following order:\n",
    "0. Install and import necessary packages\n",
    "1. Load and preprocess data \n",
    "2. Data encoding\n",
    "3. QNN model\n",
    "   * QNN layer\n",
    "   * QNN circuit\n",
    "   * Model building\n",
    "4. Model training\n",
    "5. Evaluation\n",
    "\n",
    "For the open source repository, refer to https://github.com/qaintumai/quantum."
   ]
  },
  {
   "cell_type": "markdown",
   "id": "595ccfec",
   "metadata": {},
   "source": [
    "Dependencies: keras-nightly==2.5.0.dev2021032900 PennyLane==0.17.0 StrawberryFields==0.18.0 tensorflow-2.4.0-cp38-cp38-macosx_10_9_x86_64.whl"
   ]
  },
  {
   "cell_type": "markdown",
   "id": "c2b1738d",
   "metadata": {},
   "source": [
    "## 0. Importing necessary packages\n"
   ]
  },
  {
   "cell_type": "code",
   "execution_count": 10,
   "id": "0682018f",
   "metadata": {},
   "outputs": [
    {
     "name": "stdout",
     "output_type": "stream",
     "text": [
      "\u001b[33mDEPRECATION: Loading egg at /Users/maxsivry/anaconda3/lib/python3.11/site-packages/fonttools-4.45.1-py3.11-macosx-10.9-x86_64.egg is deprecated. pip 24.3 will enforce this behaviour change. A possible replacement is to use pip for package installation. Discussion can be found at https://github.com/pypa/pip/issues/12330\u001b[0m\u001b[33m\n",
      "\u001b[0mRequirement already satisfied: keras-nightly==2.5.0.dev2021032900 in /Users/maxsivry/anaconda3/lib/python3.11/site-packages (2.5.0.dev2021032900)\n",
      "\n",
      "\u001b[1m[\u001b[0m\u001b[34;49mnotice\u001b[0m\u001b[1;39;49m]\u001b[0m\u001b[39;49m A new release of pip is available: \u001b[0m\u001b[31;49m24.1.2\u001b[0m\u001b[39;49m -> \u001b[0m\u001b[32;49m24.2\u001b[0m\n",
      "\u001b[1m[\u001b[0m\u001b[34;49mnotice\u001b[0m\u001b[1;39;49m]\u001b[0m\u001b[39;49m To update, run: \u001b[0m\u001b[32;49mpip install --upgrade pip\u001b[0m\n",
      "\u001b[33mDEPRECATION: Loading egg at /Users/maxsivry/anaconda3/lib/python3.11/site-packages/fonttools-4.45.1-py3.11-macosx-10.9-x86_64.egg is deprecated. pip 24.3 will enforce this behaviour change. A possible replacement is to use pip for package installation. Discussion can be found at https://github.com/pypa/pip/issues/12330\u001b[0m\u001b[33m\n",
      "\u001b[0mRequirement already satisfied: PennyLane==0.17.0 in /Users/maxsivry/anaconda3/lib/python3.11/site-packages (0.17.0)\n",
      "Requirement already satisfied: numpy in /Users/maxsivry/anaconda3/lib/python3.11/site-packages (from PennyLane==0.17.0) (1.23.5)\n",
      "Requirement already satisfied: scipy in /Users/maxsivry/anaconda3/lib/python3.11/site-packages (from PennyLane==0.17.0) (1.10.1)\n",
      "Requirement already satisfied: networkx in /Users/maxsivry/anaconda3/lib/python3.11/site-packages (from PennyLane==0.17.0) (3.1)\n",
      "Requirement already satisfied: autograd in /Users/maxsivry/anaconda3/lib/python3.11/site-packages (from PennyLane==0.17.0) (1.6.2)\n",
      "Requirement already satisfied: toml in /Users/maxsivry/anaconda3/lib/python3.11/site-packages (from PennyLane==0.17.0) (0.10.2)\n",
      "Requirement already satisfied: appdirs in /Users/maxsivry/anaconda3/lib/python3.11/site-packages (from PennyLane==0.17.0) (1.4.4)\n",
      "Requirement already satisfied: semantic-version==2.6 in /Users/maxsivry/anaconda3/lib/python3.11/site-packages (from PennyLane==0.17.0) (2.6.0)\n",
      "Requirement already satisfied: autoray in /Users/maxsivry/anaconda3/lib/python3.11/site-packages (from PennyLane==0.17.0) (0.6.12)\n",
      "Requirement already satisfied: future>=0.15.2 in /Users/maxsivry/anaconda3/lib/python3.11/site-packages (from autograd->PennyLane==0.17.0) (0.18.3)\n",
      "\n",
      "\u001b[1m[\u001b[0m\u001b[34;49mnotice\u001b[0m\u001b[1;39;49m]\u001b[0m\u001b[39;49m A new release of pip is available: \u001b[0m\u001b[31;49m24.1.2\u001b[0m\u001b[39;49m -> \u001b[0m\u001b[32;49m24.2\u001b[0m\n",
      "\u001b[1m[\u001b[0m\u001b[34;49mnotice\u001b[0m\u001b[1;39;49m]\u001b[0m\u001b[39;49m To update, run: \u001b[0m\u001b[32;49mpip install --upgrade pip\u001b[0m\n",
      "\u001b[33mDEPRECATION: Loading egg at /Users/maxsivry/anaconda3/lib/python3.11/site-packages/fonttools-4.45.1-py3.11-macosx-10.9-x86_64.egg is deprecated. pip 24.3 will enforce this behaviour change. A possible replacement is to use pip for package installation. Discussion can be found at https://github.com/pypa/pip/issues/12330\u001b[0m\u001b[33m\n",
      "\u001b[0mRequirement already satisfied: StrawberryFields==0.19.0 in /Users/maxsivry/anaconda3/lib/python3.11/site-packages (0.19.0)\n",
      "Requirement already satisfied: numpy>=1.17.4 in /Users/maxsivry/anaconda3/lib/python3.11/site-packages (from StrawberryFields==0.19.0) (1.23.5)\n",
      "Requirement already satisfied: scipy>=1.0.0 in /Users/maxsivry/anaconda3/lib/python3.11/site-packages (from StrawberryFields==0.19.0) (1.10.1)\n",
      "Requirement already satisfied: sympy>=1.5 in /Users/maxsivry/anaconda3/lib/python3.11/site-packages (from StrawberryFields==0.19.0) (1.11.1)\n",
      "Requirement already satisfied: networkx>=2.0 in /Users/maxsivry/anaconda3/lib/python3.11/site-packages (from StrawberryFields==0.19.0) (3.1)\n",
      "Requirement already satisfied: quantum-blackbird>=0.3.0 in /Users/maxsivry/anaconda3/lib/python3.11/site-packages (from StrawberryFields==0.19.0) (0.5.0)\n",
      "Requirement already satisfied: python-dateutil>=2.8.0 in /Users/maxsivry/anaconda3/lib/python3.11/site-packages (from StrawberryFields==0.19.0) (2.8.2)\n",
      "Requirement already satisfied: thewalrus>=0.15.0 in /Users/maxsivry/anaconda3/lib/python3.11/site-packages (from StrawberryFields==0.19.0) (0.21.0)\n",
      "Requirement already satisfied: numba in /Users/maxsivry/anaconda3/lib/python3.11/site-packages (from StrawberryFields==0.19.0) (0.57.0)\n",
      "Requirement already satisfied: toml in /Users/maxsivry/anaconda3/lib/python3.11/site-packages (from StrawberryFields==0.19.0) (0.10.2)\n",
      "Requirement already satisfied: appdirs in /Users/maxsivry/anaconda3/lib/python3.11/site-packages (from StrawberryFields==0.19.0) (1.4.4)\n",
      "Requirement already satisfied: requests>=2.22.0 in /Users/maxsivry/anaconda3/lib/python3.11/site-packages (from StrawberryFields==0.19.0) (2.31.0)\n",
      "Requirement already satisfied: urllib3>=1.25.3 in /Users/maxsivry/anaconda3/lib/python3.11/site-packages (from StrawberryFields==0.19.0) (1.26.16)\n",
      "Requirement already satisfied: six>=1.5 in /Users/maxsivry/anaconda3/lib/python3.11/site-packages (from python-dateutil>=2.8.0->StrawberryFields==0.19.0) (1.16.0)\n",
      "Requirement already satisfied: antlr4-python3-runtime==4.9.2 in /Users/maxsivry/anaconda3/lib/python3.11/site-packages (from quantum-blackbird>=0.3.0->StrawberryFields==0.19.0) (4.9.2)\n",
      "Requirement already satisfied: charset-normalizer<4,>=2 in /Users/maxsivry/anaconda3/lib/python3.11/site-packages (from requests>=2.22.0->StrawberryFields==0.19.0) (2.0.4)\n",
      "Requirement already satisfied: idna<4,>=2.5 in /Users/maxsivry/anaconda3/lib/python3.11/site-packages (from requests>=2.22.0->StrawberryFields==0.19.0) (3.4)\n",
      "Requirement already satisfied: certifi>=2017.4.17 in /Users/maxsivry/anaconda3/lib/python3.11/site-packages (from requests>=2.22.0->StrawberryFields==0.19.0) (2023.7.22)\n",
      "Requirement already satisfied: mpmath>=0.19 in /Users/maxsivry/anaconda3/lib/python3.11/site-packages (from sympy>=1.5->StrawberryFields==0.19.0) (1.3.0)\n",
      "Requirement already satisfied: dask[delayed] in /Users/maxsivry/anaconda3/lib/python3.11/site-packages (from thewalrus>=0.15.0->StrawberryFields==0.19.0) (2023.6.0)\n",
      "Requirement already satisfied: llvmlite<0.41,>=0.40.0dev0 in /Users/maxsivry/anaconda3/lib/python3.11/site-packages (from numba->StrawberryFields==0.19.0) (0.40.0)\n",
      "Requirement already satisfied: click>=8.0 in /Users/maxsivry/anaconda3/lib/python3.11/site-packages (from dask[delayed]->thewalrus>=0.15.0->StrawberryFields==0.19.0) (8.0.4)\n",
      "Requirement already satisfied: cloudpickle>=1.5.0 in /Users/maxsivry/anaconda3/lib/python3.11/site-packages (from dask[delayed]->thewalrus>=0.15.0->StrawberryFields==0.19.0) (2.2.1)\n",
      "Requirement already satisfied: fsspec>=2021.09.0 in /Users/maxsivry/anaconda3/lib/python3.11/site-packages (from dask[delayed]->thewalrus>=0.15.0->StrawberryFields==0.19.0) (2023.10.0)\n",
      "Requirement already satisfied: packaging>=20.0 in /Users/maxsivry/anaconda3/lib/python3.11/site-packages (from dask[delayed]->thewalrus>=0.15.0->StrawberryFields==0.19.0) (23.0)\n",
      "Requirement already satisfied: partd>=1.2.0 in /Users/maxsivry/anaconda3/lib/python3.11/site-packages (from dask[delayed]->thewalrus>=0.15.0->StrawberryFields==0.19.0) (1.2.0)\n",
      "Requirement already satisfied: pyyaml>=5.3.1 in /Users/maxsivry/anaconda3/lib/python3.11/site-packages (from dask[delayed]->thewalrus>=0.15.0->StrawberryFields==0.19.0) (6.0)\n",
      "Requirement already satisfied: toolz>=0.10.0 in /Users/maxsivry/anaconda3/lib/python3.11/site-packages (from dask[delayed]->thewalrus>=0.15.0->StrawberryFields==0.19.0) (0.12.0)\n",
      "Requirement already satisfied: importlib-metadata>=4.13.0 in /Users/maxsivry/anaconda3/lib/python3.11/site-packages (from dask[delayed]->thewalrus>=0.15.0->StrawberryFields==0.19.0) (6.0.0)\n",
      "Requirement already satisfied: zipp>=0.5 in /Users/maxsivry/anaconda3/lib/python3.11/site-packages (from importlib-metadata>=4.13.0->dask[delayed]->thewalrus>=0.15.0->StrawberryFields==0.19.0) (3.11.0)\n",
      "Requirement already satisfied: locket in /Users/maxsivry/anaconda3/lib/python3.11/site-packages (from partd>=1.2.0->dask[delayed]->thewalrus>=0.15.0->StrawberryFields==0.19.0) (1.0.0)\n",
      "\n",
      "\u001b[1m[\u001b[0m\u001b[34;49mnotice\u001b[0m\u001b[1;39;49m]\u001b[0m\u001b[39;49m A new release of pip is available: \u001b[0m\u001b[31;49m24.1.2\u001b[0m\u001b[39;49m -> \u001b[0m\u001b[32;49m24.2\u001b[0m\n",
      "\u001b[1m[\u001b[0m\u001b[34;49mnotice\u001b[0m\u001b[1;39;49m]\u001b[0m\u001b[39;49m To update, run: \u001b[0m\u001b[32;49mpip install --upgrade pip\u001b[0m\n"
     ]
    },
    {
     "name": "stdout",
     "output_type": "stream",
     "text": [
      "\u001b[33mDEPRECATION: Loading egg at /Users/maxsivry/anaconda3/lib/python3.11/site-packages/fonttools-4.45.1-py3.11-macosx-10.9-x86_64.egg is deprecated. pip 24.3 will enforce this behaviour change. A possible replacement is to use pip for package installation. Discussion can be found at https://github.com/pypa/pip/issues/12330\u001b[0m\u001b[33m\n",
      "\u001b[0m\u001b[31mERROR: Could not find a version that satisfies the requirement tensorflow==2.4.0 (from versions: 2.12.0rc0, 2.12.0rc1, 2.12.0, 2.12.1, 2.13.0rc0, 2.13.0rc1, 2.13.0rc2, 2.13.0, 2.13.1, 2.14.0rc0, 2.14.0rc1, 2.14.0, 2.14.1, 2.15.0rc0, 2.15.0rc1, 2.15.0, 2.15.1, 2.16.0rc0, 2.16.1, 2.16.2)\u001b[0m\u001b[31m\n",
      "\u001b[0m\u001b[31mERROR: No matching distribution found for tensorflow==2.4.0\u001b[0m\u001b[31m\n",
      "\u001b[0m\n",
      "\u001b[1m[\u001b[0m\u001b[34;49mnotice\u001b[0m\u001b[1;39;49m]\u001b[0m\u001b[39;49m A new release of pip is available: \u001b[0m\u001b[31;49m24.1.2\u001b[0m\u001b[39;49m -> \u001b[0m\u001b[32;49m24.2\u001b[0m\n",
      "\u001b[1m[\u001b[0m\u001b[34;49mnotice\u001b[0m\u001b[1;39;49m]\u001b[0m\u001b[39;49m To update, run: \u001b[0m\u001b[32;49mpip install --upgrade pip\u001b[0m\n",
      "\u001b[33mDEPRECATION: Loading egg at /Users/maxsivry/anaconda3/lib/python3.11/site-packages/fonttools-4.45.1-py3.11-macosx-10.9-x86_64.egg is deprecated. pip 24.3 will enforce this behaviour change. A possible replacement is to use pip for package installation. Discussion can be found at https://github.com/pypa/pip/issues/12330\u001b[0m\u001b[33m\n",
      "\u001b[0mRequirement already satisfied: torchsummary in /Users/maxsivry/anaconda3/lib/python3.11/site-packages (1.5.1)\n",
      "\n",
      "\u001b[1m[\u001b[0m\u001b[34;49mnotice\u001b[0m\u001b[1;39;49m]\u001b[0m\u001b[39;49m A new release of pip is available: \u001b[0m\u001b[31;49m24.1.2\u001b[0m\u001b[39;49m -> \u001b[0m\u001b[32;49m24.2\u001b[0m\n",
      "\u001b[1m[\u001b[0m\u001b[34;49mnotice\u001b[0m\u001b[1;39;49m]\u001b[0m\u001b[39;49m To update, run: \u001b[0m\u001b[32;49mpip install --upgrade pip\u001b[0m\n",
      "\u001b[33mDEPRECATION: Loading egg at /Users/maxsivry/anaconda3/lib/python3.11/site-packages/fonttools-4.45.1-py3.11-macosx-10.9-x86_64.egg is deprecated. pip 24.3 will enforce this behaviour change. A possible replacement is to use pip for package installation. Discussion can be found at https://github.com/pypa/pip/issues/12330\u001b[0m\u001b[33m\n",
      "\u001b[0mName: PennyLane\n",
      "Version: 0.17.0\n",
      "Summary: PennyLane is a Python quantum machine learning library by Xanadu Inc.\n",
      "Home-page: https://github.com/XanaduAI/pennylane\n",
      "Author: \n",
      "Author-email: \n",
      "License: Apache License 2.0\n",
      "Location: /Users/maxsivry/anaconda3/lib/python3.11/site-packages\n",
      "Requires: appdirs, autograd, autoray, networkx, numpy, scipy, semantic-version, toml\n",
      "Required-by: PennyLane-Lightning\n"
     ]
    }
   ],
   "source": [
    "!pip install keras-nightly==2.5.0.dev2021032900\n",
    "!pip install PennyLane==0.17.0\n",
    "!pip install StrawberryFields==0.19.0\n",
    "!pip install tensorflow==2.4.0\n",
    "!pip install torchsummary\n",
    "!pip show pennylane\n"
   ]
  },
  {
   "cell_type": "code",
   "execution_count": 18,
   "id": "b22a3209",
   "metadata": {},
   "outputs": [
    {
     "name": "stdout",
     "output_type": "stream",
     "text": [
      "\u001b[33mDEPRECATION: Loading egg at /Users/maxsivry/anaconda3/lib/python3.11/site-packages/fonttools-4.45.1-py3.11-macosx-10.9-x86_64.egg is deprecated. pip 24.3 will enforce this behaviour change. A possible replacement is to use pip for package installation. Discussion can be found at https://github.com/pypa/pip/issues/12330\u001b[0m\u001b[33m\n",
      "\u001b[0mRequirement already satisfied: strawberryfields in /Users/maxsivry/anaconda3/lib/python3.11/site-packages (0.19.0)\n",
      "Requirement already satisfied: numpy>=1.17.4 in /Users/maxsivry/anaconda3/lib/python3.11/site-packages (from strawberryfields) (1.23.5)\n",
      "Requirement already satisfied: scipy>=1.0.0 in /Users/maxsivry/anaconda3/lib/python3.11/site-packages (from strawberryfields) (1.10.1)\n",
      "Requirement already satisfied: sympy>=1.5 in /Users/maxsivry/anaconda3/lib/python3.11/site-packages (from strawberryfields) (1.11.1)\n",
      "Requirement already satisfied: networkx>=2.0 in /Users/maxsivry/anaconda3/lib/python3.11/site-packages (from strawberryfields) (3.1)\n",
      "Requirement already satisfied: quantum-blackbird>=0.3.0 in /Users/maxsivry/anaconda3/lib/python3.11/site-packages (from strawberryfields) (0.5.0)\n",
      "Requirement already satisfied: python-dateutil>=2.8.0 in /Users/maxsivry/anaconda3/lib/python3.11/site-packages (from strawberryfields) (2.8.2)\n",
      "Requirement already satisfied: thewalrus>=0.15.0 in /Users/maxsivry/anaconda3/lib/python3.11/site-packages (from strawberryfields) (0.21.0)\n",
      "Requirement already satisfied: numba in /Users/maxsivry/anaconda3/lib/python3.11/site-packages (from strawberryfields) (0.57.0)\n",
      "Requirement already satisfied: toml in /Users/maxsivry/anaconda3/lib/python3.11/site-packages (from strawberryfields) (0.10.2)\n",
      "Requirement already satisfied: appdirs in /Users/maxsivry/anaconda3/lib/python3.11/site-packages (from strawberryfields) (1.4.4)\n",
      "Requirement already satisfied: requests>=2.22.0 in /Users/maxsivry/anaconda3/lib/python3.11/site-packages (from strawberryfields) (2.31.0)\n",
      "Requirement already satisfied: urllib3>=1.25.3 in /Users/maxsivry/anaconda3/lib/python3.11/site-packages (from strawberryfields) (1.26.16)\n",
      "Requirement already satisfied: six>=1.5 in /Users/maxsivry/anaconda3/lib/python3.11/site-packages (from python-dateutil>=2.8.0->strawberryfields) (1.16.0)\n",
      "Requirement already satisfied: antlr4-python3-runtime==4.9.2 in /Users/maxsivry/anaconda3/lib/python3.11/site-packages (from quantum-blackbird>=0.3.0->strawberryfields) (4.9.2)\n",
      "Requirement already satisfied: charset-normalizer<4,>=2 in /Users/maxsivry/anaconda3/lib/python3.11/site-packages (from requests>=2.22.0->strawberryfields) (2.0.4)\n",
      "Requirement already satisfied: idna<4,>=2.5 in /Users/maxsivry/anaconda3/lib/python3.11/site-packages (from requests>=2.22.0->strawberryfields) (3.4)\n",
      "Requirement already satisfied: certifi>=2017.4.17 in /Users/maxsivry/anaconda3/lib/python3.11/site-packages (from requests>=2.22.0->strawberryfields) (2023.7.22)\n",
      "Requirement already satisfied: mpmath>=0.19 in /Users/maxsivry/anaconda3/lib/python3.11/site-packages (from sympy>=1.5->strawberryfields) (1.3.0)\n",
      "Requirement already satisfied: dask[delayed] in /Users/maxsivry/anaconda3/lib/python3.11/site-packages (from thewalrus>=0.15.0->strawberryfields) (2023.6.0)\n",
      "Requirement already satisfied: llvmlite<0.41,>=0.40.0dev0 in /Users/maxsivry/anaconda3/lib/python3.11/site-packages (from numba->strawberryfields) (0.40.0)\n",
      "Requirement already satisfied: click>=8.0 in /Users/maxsivry/anaconda3/lib/python3.11/site-packages (from dask[delayed]->thewalrus>=0.15.0->strawberryfields) (8.0.4)\n",
      "Requirement already satisfied: cloudpickle>=1.5.0 in /Users/maxsivry/anaconda3/lib/python3.11/site-packages (from dask[delayed]->thewalrus>=0.15.0->strawberryfields) (2.2.1)\n",
      "Requirement already satisfied: fsspec>=2021.09.0 in /Users/maxsivry/anaconda3/lib/python3.11/site-packages (from dask[delayed]->thewalrus>=0.15.0->strawberryfields) (2023.10.0)\n",
      "Requirement already satisfied: packaging>=20.0 in /Users/maxsivry/anaconda3/lib/python3.11/site-packages (from dask[delayed]->thewalrus>=0.15.0->strawberryfields) (23.0)\n",
      "Requirement already satisfied: partd>=1.2.0 in /Users/maxsivry/anaconda3/lib/python3.11/site-packages (from dask[delayed]->thewalrus>=0.15.0->strawberryfields) (1.2.0)\n",
      "Requirement already satisfied: pyyaml>=5.3.1 in /Users/maxsivry/anaconda3/lib/python3.11/site-packages (from dask[delayed]->thewalrus>=0.15.0->strawberryfields) (6.0)\n",
      "Requirement already satisfied: toolz>=0.10.0 in /Users/maxsivry/anaconda3/lib/python3.11/site-packages (from dask[delayed]->thewalrus>=0.15.0->strawberryfields) (0.12.0)\n",
      "Requirement already satisfied: importlib-metadata>=4.13.0 in /Users/maxsivry/anaconda3/lib/python3.11/site-packages (from dask[delayed]->thewalrus>=0.15.0->strawberryfields) (6.0.0)\n",
      "Requirement already satisfied: zipp>=0.5 in /Users/maxsivry/anaconda3/lib/python3.11/site-packages (from importlib-metadata>=4.13.0->dask[delayed]->thewalrus>=0.15.0->strawberryfields) (3.11.0)\n",
      "Requirement already satisfied: locket in /Users/maxsivry/anaconda3/lib/python3.11/site-packages (from partd>=1.2.0->dask[delayed]->thewalrus>=0.15.0->strawberryfields) (1.0.0)\n",
      "\n",
      "\u001b[1m[\u001b[0m\u001b[34;49mnotice\u001b[0m\u001b[1;39;49m]\u001b[0m\u001b[39;49m A new release of pip is available: \u001b[0m\u001b[31;49m24.1.2\u001b[0m\u001b[39;49m -> \u001b[0m\u001b[32;49m24.2\u001b[0m\n",
      "\u001b[1m[\u001b[0m\u001b[34;49mnotice\u001b[0m\u001b[1;39;49m]\u001b[0m\u001b[39;49m To update, run: \u001b[0m\u001b[32;49mpip install --upgrade pip\u001b[0m\n",
      "\u001b[33mDEPRECATION: Loading egg at /Users/maxsivry/anaconda3/lib/python3.11/site-packages/fonttools-4.45.1-py3.11-macosx-10.9-x86_64.egg is deprecated. pip 24.3 will enforce this behaviour change. A possible replacement is to use pip for package installation. Discussion can be found at https://github.com/pypa/pip/issues/12330\u001b[0m\u001b[33m\n",
      "\u001b[0mCollecting pennylane-sf\n",
      "  Using cached PennyLane_SF-0.29.1-py3-none-any.whl.metadata (7.0 kB)\n",
      "Collecting strawberryfields>=0.22 (from pennylane-sf)\n",
      "  Using cached StrawberryFields-0.23.0-py3-none-any.whl.metadata (7.6 kB)\n",
      "Collecting pennylane<0.30,>=0.19 (from pennylane-sf)\n",
      "  Using cached PennyLane-0.29.1-py3-none-any.whl.metadata (8.7 kB)\n",
      "Requirement already satisfied: numpy<1.24 in /Users/maxsivry/anaconda3/lib/python3.11/site-packages (from pennylane<0.30,>=0.19->pennylane-sf) (1.23.5)\n",
      "Requirement already satisfied: scipy in /Users/maxsivry/anaconda3/lib/python3.11/site-packages (from pennylane<0.30,>=0.19->pennylane-sf) (1.10.1)\n",
      "Requirement already satisfied: networkx in /Users/maxsivry/anaconda3/lib/python3.11/site-packages (from pennylane<0.30,>=0.19->pennylane-sf) (3.1)\n",
      "Requirement already satisfied: retworkx in /Users/maxsivry/anaconda3/lib/python3.11/site-packages (from pennylane<0.30,>=0.19->pennylane-sf) (0.15.1)\n",
      "Requirement already satisfied: autograd in /Users/maxsivry/anaconda3/lib/python3.11/site-packages (from pennylane<0.30,>=0.19->pennylane-sf) (1.6.2)\n",
      "Requirement already satisfied: toml in /Users/maxsivry/anaconda3/lib/python3.11/site-packages (from pennylane<0.30,>=0.19->pennylane-sf) (0.10.2)\n",
      "Requirement already satisfied: appdirs in /Users/maxsivry/anaconda3/lib/python3.11/site-packages (from pennylane<0.30,>=0.19->pennylane-sf) (1.4.4)\n",
      "Collecting semantic-version>=2.7 (from pennylane<0.30,>=0.19->pennylane-sf)\n",
      "  Using cached semantic_version-2.10.0-py2.py3-none-any.whl.metadata (9.7 kB)\n",
      "Requirement already satisfied: autoray>=0.3.1 in /Users/maxsivry/anaconda3/lib/python3.11/site-packages (from pennylane<0.30,>=0.19->pennylane-sf) (0.6.12)\n",
      "Requirement already satisfied: cachetools in /Users/maxsivry/anaconda3/lib/python3.11/site-packages (from pennylane<0.30,>=0.19->pennylane-sf) (5.3.1)\n",
      "Requirement already satisfied: pennylane-lightning>=0.28 in /Users/maxsivry/anaconda3/lib/python3.11/site-packages (from pennylane<0.30,>=0.19->pennylane-sf) (0.28.0)\n",
      "Requirement already satisfied: requests in /Users/maxsivry/anaconda3/lib/python3.11/site-packages (from pennylane<0.30,>=0.19->pennylane-sf) (2.31.0)\n",
      "Requirement already satisfied: numba in /Users/maxsivry/anaconda3/lib/python3.11/site-packages (from strawberryfields>=0.22->pennylane-sf) (0.57.0)\n",
      "Requirement already satisfied: python-dateutil>=2.8.0 in /Users/maxsivry/anaconda3/lib/python3.11/site-packages (from strawberryfields>=0.22->pennylane-sf) (2.8.2)\n",
      "Requirement already satisfied: quantum-blackbird>=0.3.0 in /Users/maxsivry/anaconda3/lib/python3.11/site-packages (from strawberryfields>=0.22->pennylane-sf) (0.5.0)\n",
      "Requirement already satisfied: sympy>=1.5 in /Users/maxsivry/anaconda3/lib/python3.11/site-packages (from strawberryfields>=0.22->pennylane-sf) (1.11.1)\n",
      "Requirement already satisfied: thewalrus>=0.18.0 in /Users/maxsivry/anaconda3/lib/python3.11/site-packages (from strawberryfields>=0.22->pennylane-sf) (0.21.0)\n",
      "Requirement already satisfied: urllib3>=1.25.3 in /Users/maxsivry/anaconda3/lib/python3.11/site-packages (from strawberryfields>=0.22->pennylane-sf) (1.26.16)\n",
      "Requirement already satisfied: quantum-xir>=0.1.1 in /Users/maxsivry/anaconda3/lib/python3.11/site-packages (from strawberryfields>=0.22->pennylane-sf) (0.2.2)\n",
      "Requirement already satisfied: xanadu-cloud-client>=0.2.1 in /Users/maxsivry/anaconda3/lib/python3.11/site-packages (from strawberryfields>=0.22->pennylane-sf) (0.3.2)\n",
      "Requirement already satisfied: ninja in /Users/maxsivry/anaconda3/lib/python3.11/site-packages (from pennylane-lightning>=0.28->pennylane<0.30,>=0.19->pennylane-sf) (1.11.1.1)\n"
     ]
    },
    {
     "name": "stdout",
     "output_type": "stream",
     "text": [
      "Requirement already satisfied: six>=1.5 in /Users/maxsivry/anaconda3/lib/python3.11/site-packages (from python-dateutil>=2.8.0->strawberryfields>=0.22->pennylane-sf) (1.16.0)\n",
      "Requirement already satisfied: antlr4-python3-runtime==4.9.2 in /Users/maxsivry/anaconda3/lib/python3.11/site-packages (from quantum-blackbird>=0.3.0->strawberryfields>=0.22->pennylane-sf) (4.9.2)\n",
      "Requirement already satisfied: lark-parser>=0.11.0 in /Users/maxsivry/anaconda3/lib/python3.11/site-packages (from quantum-xir>=0.1.1->strawberryfields>=0.22->pennylane-sf) (0.12.0)\n",
      "Requirement already satisfied: charset-normalizer<4,>=2 in /Users/maxsivry/anaconda3/lib/python3.11/site-packages (from requests->pennylane<0.30,>=0.19->pennylane-sf) (2.0.4)\n",
      "Requirement already satisfied: idna<4,>=2.5 in /Users/maxsivry/anaconda3/lib/python3.11/site-packages (from requests->pennylane<0.30,>=0.19->pennylane-sf) (3.4)\n",
      "Requirement already satisfied: certifi>=2017.4.17 in /Users/maxsivry/anaconda3/lib/python3.11/site-packages (from requests->pennylane<0.30,>=0.19->pennylane-sf) (2023.7.22)\n",
      "Requirement already satisfied: mpmath>=0.19 in /Users/maxsivry/anaconda3/lib/python3.11/site-packages (from sympy>=1.5->strawberryfields>=0.22->pennylane-sf) (1.3.0)\n",
      "Requirement already satisfied: dask[delayed] in /Users/maxsivry/anaconda3/lib/python3.11/site-packages (from thewalrus>=0.18.0->strawberryfields>=0.22->pennylane-sf) (2023.6.0)\n",
      "Requirement already satisfied: llvmlite<0.41,>=0.40.0dev0 in /Users/maxsivry/anaconda3/lib/python3.11/site-packages (from numba->strawberryfields>=0.22->pennylane-sf) (0.40.0)\n",
      "Requirement already satisfied: fire in /Users/maxsivry/anaconda3/lib/python3.11/site-packages (from xanadu-cloud-client>=0.2.1->strawberryfields>=0.22->pennylane-sf) (0.6.0)\n",
      "Requirement already satisfied: pydantic>=2 in /Users/maxsivry/anaconda3/lib/python3.11/site-packages (from xanadu-cloud-client>=0.2.1->strawberryfields>=0.22->pennylane-sf) (2.8.2)\n",
      "Requirement already satisfied: pydantic-settings in /Users/maxsivry/anaconda3/lib/python3.11/site-packages (from xanadu-cloud-client>=0.2.1->strawberryfields>=0.22->pennylane-sf) (2.4.0)\n",
      "Requirement already satisfied: python-dotenv in /Users/maxsivry/anaconda3/lib/python3.11/site-packages (from xanadu-cloud-client>=0.2.1->strawberryfields>=0.22->pennylane-sf) (1.0.1)\n",
      "Requirement already satisfied: future>=0.15.2 in /Users/maxsivry/anaconda3/lib/python3.11/site-packages (from autograd->pennylane<0.30,>=0.19->pennylane-sf) (0.18.3)\n",
      "Requirement already satisfied: rustworkx==0.15.1 in /Users/maxsivry/anaconda3/lib/python3.11/site-packages (from retworkx->pennylane<0.30,>=0.19->pennylane-sf) (0.15.1)\n",
      "Requirement already satisfied: annotated-types>=0.4.0 in /Users/maxsivry/anaconda3/lib/python3.11/site-packages (from pydantic>=2->xanadu-cloud-client>=0.2.1->strawberryfields>=0.22->pennylane-sf) (0.7.0)\n",
      "Requirement already satisfied: pydantic-core==2.20.1 in /Users/maxsivry/anaconda3/lib/python3.11/site-packages (from pydantic>=2->xanadu-cloud-client>=0.2.1->strawberryfields>=0.22->pennylane-sf) (2.20.1)\n",
      "Requirement already satisfied: typing-extensions>=4.6.1 in /Users/maxsivry/anaconda3/lib/python3.11/site-packages (from pydantic>=2->xanadu-cloud-client>=0.2.1->strawberryfields>=0.22->pennylane-sf) (4.12.2)\n",
      "Requirement already satisfied: click>=8.0 in /Users/maxsivry/anaconda3/lib/python3.11/site-packages (from dask[delayed]->thewalrus>=0.18.0->strawberryfields>=0.22->pennylane-sf) (8.0.4)\n",
      "Requirement already satisfied: cloudpickle>=1.5.0 in /Users/maxsivry/anaconda3/lib/python3.11/site-packages (from dask[delayed]->thewalrus>=0.18.0->strawberryfields>=0.22->pennylane-sf) (2.2.1)\n",
      "Requirement already satisfied: fsspec>=2021.09.0 in /Users/maxsivry/anaconda3/lib/python3.11/site-packages (from dask[delayed]->thewalrus>=0.18.0->strawberryfields>=0.22->pennylane-sf) (2023.10.0)\n",
      "Requirement already satisfied: packaging>=20.0 in /Users/maxsivry/anaconda3/lib/python3.11/site-packages (from dask[delayed]->thewalrus>=0.18.0->strawberryfields>=0.22->pennylane-sf) (23.0)\n",
      "Requirement already satisfied: partd>=1.2.0 in /Users/maxsivry/anaconda3/lib/python3.11/site-packages (from dask[delayed]->thewalrus>=0.18.0->strawberryfields>=0.22->pennylane-sf) (1.2.0)\n",
      "Requirement already satisfied: pyyaml>=5.3.1 in /Users/maxsivry/anaconda3/lib/python3.11/site-packages (from dask[delayed]->thewalrus>=0.18.0->strawberryfields>=0.22->pennylane-sf) (6.0)\n",
      "Requirement already satisfied: toolz>=0.10.0 in /Users/maxsivry/anaconda3/lib/python3.11/site-packages (from dask[delayed]->thewalrus>=0.18.0->strawberryfields>=0.22->pennylane-sf) (0.12.0)\n",
      "Requirement already satisfied: importlib-metadata>=4.13.0 in /Users/maxsivry/anaconda3/lib/python3.11/site-packages (from dask[delayed]->thewalrus>=0.18.0->strawberryfields>=0.22->pennylane-sf) (6.0.0)\n",
      "Requirement already satisfied: termcolor in /Users/maxsivry/anaconda3/lib/python3.11/site-packages (from fire->xanadu-cloud-client>=0.2.1->strawberryfields>=0.22->pennylane-sf) (2.4.0)\n",
      "Requirement already satisfied: zipp>=0.5 in /Users/maxsivry/anaconda3/lib/python3.11/site-packages (from importlib-metadata>=4.13.0->dask[delayed]->thewalrus>=0.18.0->strawberryfields>=0.22->pennylane-sf) (3.11.0)\n",
      "Requirement already satisfied: locket in /Users/maxsivry/anaconda3/lib/python3.11/site-packages (from partd>=1.2.0->dask[delayed]->thewalrus>=0.18.0->strawberryfields>=0.22->pennylane-sf) (1.0.0)\n",
      "Using cached PennyLane_SF-0.29.1-py3-none-any.whl (29 kB)\n",
      "Using cached PennyLane-0.29.1-py3-none-any.whl (1.3 MB)\n",
      "Using cached StrawberryFields-0.23.0-py3-none-any.whl (4.9 MB)\n",
      "Using cached semantic_version-2.10.0-py2.py3-none-any.whl (15 kB)\n",
      "Installing collected packages: semantic-version, strawberryfields, pennylane, pennylane-sf\n",
      "  Attempting uninstall: semantic-version\n",
      "    Found existing installation: semantic-version 2.6.0\n",
      "    Uninstalling semantic-version-2.6.0:\n",
      "      Successfully uninstalled semantic-version-2.6.0\n",
      "  Attempting uninstall: strawberryfields\n",
      "    Found existing installation: StrawberryFields 0.19.0\n",
      "    Uninstalling StrawberryFields-0.19.0:\n",
      "      Successfully uninstalled StrawberryFields-0.19.0\n",
      "  Attempting uninstall: pennylane\n",
      "    Found existing installation: PennyLane 0.17.0\n",
      "    Uninstalling PennyLane-0.17.0:\n",
      "      Successfully uninstalled PennyLane-0.17.0\n",
      "Successfully installed pennylane-0.29.1 pennylane-sf-0.29.1 semantic-version-2.10.0 strawberryfields-0.23.0\n",
      "\n",
      "\u001b[1m[\u001b[0m\u001b[34;49mnotice\u001b[0m\u001b[1;39;49m]\u001b[0m\u001b[39;49m A new release of pip is available: \u001b[0m\u001b[31;49m24.1.2\u001b[0m\u001b[39;49m -> \u001b[0m\u001b[32;49m24.2\u001b[0m\n",
      "\u001b[1m[\u001b[0m\u001b[34;49mnotice\u001b[0m\u001b[1;39;49m]\u001b[0m\u001b[39;49m To update, run: \u001b[0m\u001b[32;49mpip install --upgrade pip\u001b[0m\n"
     ]
    }
   ],
   "source": [
    "!pip install strawberryfields\n",
    "!pip install pennylane-sf"
   ]
  },
  {
   "cell_type": "code",
   "execution_count": 32,
   "id": "417078e3",
   "metadata": {},
   "outputs": [],
   "source": [
    "import torch\n",
    "import torchvision\n",
    "import torch.nn as nn\n",
    "import torch.nn.functional as F\n",
    "import torchvision.transforms as transforms\n",
    "import torch.optim as optim\n",
    "from torchsummary import summary\n",
    "import pennylane as qml\n",
    "import numpy as np\n",
    "\n",
    "import matplotlib.pyplot as plt"
   ]
  },
  {
   "cell_type": "markdown",
   "id": "84a81d5b",
   "metadata": {},
   "source": [
    "## 0. Loading data and preprocessing"
   ]
  },
  {
   "cell_type": "code",
   "execution_count": 12,
   "id": "9cb00f94",
   "metadata": {},
   "outputs": [
    {
     "name": "stdout",
     "output_type": "stream",
     "text": [
      "X_train shape: (60000, 1, 28, 28)\n",
      "Y_train shape: (60000,)\n",
      "X_test shape: (10000, 1, 28, 28)\n",
      "Y_test shape: (10000,)\n",
      "X_train min and max values: 0.0 1.0\n",
      "X_test min and max values: 0.0 1.0\n"
     ]
    }
   ],
   "source": [
    "# Define a transform to convert PIL images to tensors and normalize the pixel values\n",
    "transform = torchvision.transforms.Compose([\n",
    "    torchvision.transforms.ToTensor(),  # Convert images to tensors with pixel values in range [0, 1]\n",
    "])\n",
    "\n",
    "# Download and load the training dataset\n",
    "trainset = torchvision.datasets.MNIST(root='./data', train=True, download=True, transform=transform)\n",
    "trainloader = torch.utils.data.DataLoader(trainset, batch_size=len(trainset), shuffle=False)\n",
    "\n",
    "# Download and load the test dataset\n",
    "testset = torchvision.datasets.MNIST(root='./data', train=False, download=True, transform=transform)\n",
    "testloader = torch.utils.data.DataLoader(testset, batch_size=len(testset), shuffle=False)\n",
    "\n",
    "# Extract the full dataset from the DataLoader (this loads the entire dataset into memory)\n",
    "X_train, Y_train = next(iter(trainloader))\n",
    "X_test, Y_test = next(iter(testloader))\n",
    "\n",
    "# Convert images to numpy arrays\n",
    "X_train = X_train.numpy()\n",
    "X_test = X_test.numpy()\n",
    "\n",
    "# Convert labels to numpy arrays\n",
    "Y_train = Y_train.numpy()\n",
    "Y_test = Y_test.numpy()\n",
    "\n",
    "# Print shapes to verify\n",
    "print(\"X_train shape:\", X_train.shape)\n",
    "print(\"Y_train shape:\", Y_train.shape)\n",
    "print(\"X_test shape:\", X_test.shape)\n",
    "print(\"Y_test shape:\", Y_test.shape)\n",
    "\n",
    "# Verify that pixel values are in the range [0, 1]\n",
    "print(\"X_train min and max values:\", X_train.min(), X_train.max())\n",
    "print(\"X_test min and max values:\", X_test.min(), X_test.max())"
   ]
  },
  {
   "cell_type": "code",
   "execution_count": 13,
   "id": "849f33ec",
   "metadata": {},
   "outputs": [],
   "source": [
    "def one_hot(labels):  \n",
    "       \n",
    "    depth =  2**4                       # 10 classes + 6 zeros for padding\n",
    "    indices = labels.astype(np.int32)    \n",
    "    one_hot_labels = np.eye(depth)[indices].astype(np.float32) \n",
    "    \n",
    "    return one_hot_labels\n",
    "\n",
    "# one-hot encoded labels, each label of length cutoff dimension**2\n",
    "y_train, y_test = one_hot(Y_train), one_hot(Y_test)\n",
    "\n",
    "# using only 600 samples for training in this experiment\n",
    "n_samples = 600\n",
    "test_samples = 100\n",
    "X_train, X_test, y_train, y_test = X_train[:n_samples], X_test[:test_samples], y_train[:n_samples], y_test[:test_samples]"
   ]
  },
  {
   "cell_type": "markdown",
   "id": "8185cf3c",
   "metadata": {},
   "source": [
    "## 1. Classical circuit"
   ]
  },
  {
   "cell_type": "markdown",
   "id": "54114c44",
   "metadata": {},
   "source": [
    "Define classical layers using Keras Sequential. Take in 28x28 image matrices, flatten, and output vectors of length 30. 2 hidden layers with ELU activation."
   ]
  },
  {
   "cell_type": "code",
   "execution_count": 14,
   "id": "46bb059f",
   "metadata": {},
   "outputs": [
    {
     "name": "stdout",
     "output_type": "stream",
     "text": [
      "----------------------------------------------------------------\n",
      "        Layer (type)               Output Shape         Param #\n",
      "================================================================\n",
      "           Flatten-1                  [-1, 784]               0\n",
      "            Linear-2                  [-1, 392]         307,720\n",
      "               ELU-3                  [-1, 392]               0\n",
      "            Linear-4                  [-1, 196]          77,028\n",
      "               ELU-5                  [-1, 196]               0\n",
      "            Linear-6                   [-1, 98]          19,306\n",
      "            Linear-7                   [-1, 49]           4,851\n",
      "               ELU-8                   [-1, 49]               0\n",
      "            Linear-9                   [-1, 30]           1,500\n",
      "================================================================\n",
      "Total params: 410,405\n",
      "Trainable params: 410,405\n",
      "Non-trainable params: 0\n",
      "----------------------------------------------------------------\n",
      "Input size (MB): 0.00\n",
      "Forward/backward pass size (MB): 0.02\n",
      "Params size (MB): 1.57\n",
      "Estimated Total Size (MB): 1.59\n",
      "----------------------------------------------------------------\n"
     ]
    }
   ],
   "source": [
    "model = nn.Sequential(\n",
    "    nn.Flatten(),  # Flatten the input\n",
    "    nn.Linear(28 * 28, 392),  # Dense layer with 392 units\n",
    "    nn.ELU(),  # ELU activation function\n",
    "    nn.Linear(392, 196),  # Dense layer with 196 units\n",
    "    nn.ELU(),  # ELU activation function\n",
    "    nn.Linear(196, 98),  # Dense layer with 98 units\n",
    "    nn.Linear(98, 49),  # Dense layer with 49 units\n",
    "    nn.ELU(),  # ELU activation function\n",
    "    nn.Linear(49, 30)  # Dense layer with 30 units\n",
    ")\n",
    "\n",
    "summary(model, input_size=(1, 28, 28))"
   ]
  },
  {
   "cell_type": "markdown",
   "id": "b3e30830",
   "metadata": {},
   "source": [
    "## 2. Data encoding circuit"
   ]
  },
  {
   "cell_type": "markdown",
   "id": "a7c72d96",
   "metadata": {},
   "source": [
    "Encode the output vectors from the classical network into quantum states using the vector entries as parameters of continuous variable gates. "
   ]
  },
  {
   "cell_type": "code",
   "execution_count": 15,
   "id": "6a5e27b4",
   "metadata": {},
   "outputs": [],
   "source": [
    "def encode_data(x):\n",
    "    qml.Squeezing(x[0], x[1], wires=0)\n",
    "    qml.Squeezing(x[2], x[3], wires=1)\n",
    "    qml.Squeezing(x[4], x[5], wires=2)\n",
    "    qml.Squeezing(x[6], x[7], wires=3)\n",
    "    \n",
    "    qml.Beamsplitter(x[8], x[9], wires=[0,1])\n",
    "    qml.Beamsplitter(x[10], x[11], wires=[1,2])\n",
    "    qml.Beamsplitter(x[12], x[13], wires=[2,3])\n",
    "    \n",
    "    qml.Rotation(x[14], wires=0)\n",
    "    qml.Rotation(x[15], wires=1)\n",
    "    qml.Rotation(x[16], wires=2)\n",
    "    qml.Rotation(x[17], wires=3)    \n",
    "    \n",
    "    qml.Displacement(x[18], x[19], wires=0)\n",
    "    qml.Displacement(x[20], x[21], wires=1)\n",
    "    qml.Displacement(x[22], x[23], wires=2)\n",
    "    qml.Displacement(x[24], x[25], wires=3) \n",
    "    \n",
    "    qml.Kerr(x[26], wires=0)\n",
    "    qml.Kerr(x[27], wires=1)\n",
    "    qml.Kerr(x[28], wires=2)\n",
    "    qml.Kerr(x[29], wires=3)"
   ]
  },
  {
   "cell_type": "markdown",
   "id": "9eca77da",
   "metadata": {},
   "source": [
    "## 3. Qauntum neural network circuit"
   ]
  },
  {
   "cell_type": "code",
   "execution_count": 16,
   "id": "de0894c2",
   "metadata": {},
   "outputs": [],
   "source": [
    "def layer(v):\n",
    "    \n",
    "    # Linear transformation W = Interferemeter, squeezers, interferometer\n",
    "    # Interferometer 1\n",
    "    qml.Beamsplitter(v[0], v[1], wires=[0,1])\n",
    "    qml.Beamsplitter(v[2], v[3], wires=[1,2])\n",
    "    qml.Beamsplitter(v[4], v[5], wires=[2,3])\n",
    "    \n",
    "    qml.Rotation(v[6], wires=0)\n",
    "    qml.Rotation(v[7], wires=1)\n",
    "    qml.Rotation(v[8], wires=2)\n",
    "    qml.Rotation(v[9], wires=3)\n",
    "    \n",
    "    # Squeezers\n",
    "    qml.Squeezing(v[10], 0.0, wires=0)\n",
    "    qml.Squeezing(v[11], 0.0, wires=1)\n",
    "    qml.Squeezing(v[12], 0.0, wires=2)\n",
    "    qml.Squeezing(v[13], 0.0, wires=3) \n",
    "    \n",
    "    # Interferometer 2\n",
    "    qml.Beamsplitter(v[14], v[15], wires=[0,1])\n",
    "    qml.Beamsplitter(v[16], v[17], wires=[1,2])\n",
    "    qml.Beamsplitter(v[18], v[19], wires=[2,3])\n",
    "    \n",
    "    qml.Rotation(v[20], wires=0)\n",
    "    qml.Rotation(v[21], wires=1)\n",
    "    qml.Rotation(v[22], wires=2)\n",
    "    qml.Rotation(v[23], wires=3)\n",
    "    \n",
    "    # Bias addition\n",
    "    qml.Displacement(v[24], 0.0, wires=0)\n",
    "    qml.Displacement(v[25], 0.0, wires=1)\n",
    "    qml.Displacement(v[26], 0.0, wires=2)\n",
    "    qml.Displacement(v[27], 0.0, wires=3)\n",
    "    \n",
    "    # Non-linear activation\n",
    "    qml.Kerr(v[28], wires=0)\n",
    "    qml.Kerr(v[29], wires=1)\n",
    "    qml.Kerr(v[30], wires=2)\n",
    "    qml.Kerr(v[31], wires=3)"
   ]
  },
  {
   "cell_type": "markdown",
   "id": "9f2b136b",
   "metadata": {},
   "source": [
    "## 4. Quantum device"
   ]
  },
  {
   "cell_type": "markdown",
   "id": "d07c0173",
   "metadata": {},
   "source": [
    "For the expression of qumodes in Fock basis, choose a \"strawberryfields.fock\" device. Define the number of qumodes and cutoff dimension. Run the data encoding circuit and quantum neural network circuit. The probability measurement method (qml.probs(wires)) returns vectors of size 2^4 = 16 (cutoff_dim^num_modes)."
   ]
  },
  {
   "cell_type": "code",
   "execution_count": 22,
   "id": "83dee8c3",
   "metadata": {},
   "outputs": [],
   "source": [
    "num_modes = 4\n",
    "cutoff_dim = 2\n",
    "\n",
    "# select a devide \n",
    "dev = qml.device(\"strawberryfields.fock\", wires=num_modes, cutoff_dim=cutoff_dim) \n",
    "\n",
    "@qml.qnode(dev, interface=\"torch\")\n",
    "def quantum_nn(inputs, var):\n",
    "    # Encode input x into quantum state\n",
    "    encode_data(inputs)\n",
    "\n",
    "    # iterative quantum layers\n",
    "    for v in var:\n",
    "        layer(v)\n",
    "\n",
    "    return qml.probs(wires=[0, 1, 2, 3])  # Measurement"
   ]
  },
  {
   "cell_type": "markdown",
   "id": "96eedc15",
   "metadata": {},
   "source": [
    "## 5. Hybrid circuit"
   ]
  },
  {
   "cell_type": "code",
   "execution_count": 29,
   "id": "bb3d72be",
   "metadata": {},
   "outputs": [
    {
     "name": "stdout",
     "output_type": "stream",
     "text": [
      "Sequential(\n",
      "  (0): Flatten(start_dim=1, end_dim=-1)\n",
      "  (1): Linear(in_features=784, out_features=392, bias=True)\n",
      "  (2): ELU(alpha=1.0)\n",
      "  (3): Linear(in_features=392, out_features=196, bias=True)\n",
      "  (4): ELU(alpha=1.0)\n",
      "  (5): Linear(in_features=196, out_features=98, bias=True)\n",
      "  (6): Linear(in_features=98, out_features=49, bias=True)\n",
      "  (7): ELU(alpha=1.0)\n",
      "  (8): Linear(in_features=49, out_features=30, bias=True)\n",
      "  (quantum_layer): <Quantum Torch Layer: func=quantum_nn>\n",
      ")\n"
     ]
    }
   ],
   "source": [
    "weight_shape = {'var': (4,32)}          # 4 layers and 32 parameters per layer, Keras layer will initialize.\n",
    "\n",
    "# Define the quantum layer using TorchLayer\n",
    "quantum_layer = qml.qnn.TorchLayer(quantum_nn, weight_shape)\n",
    "# add to the classical sequential model\n",
    "model.add_module('quantum_layer', quantum_layer)\n",
    "\n",
    "print(model)"
   ]
  },
  {
   "cell_type": "markdown",
   "id": "198357cc",
   "metadata": {},
   "source": [
    "## 6. Loss function and optimizer"
   ]
  },
  {
   "cell_type": "code",
   "execution_count": 43,
   "id": "1d32cad7",
   "metadata": {},
   "outputs": [
    {
     "name": "stdout",
     "output_type": "stream",
     "text": [
      "tensor([[0., 0., 0.,  ..., 0., 0., 0.],\n",
      "        [0., 0., 0.,  ..., 0., 0., 0.],\n",
      "        [0., 0., 0.,  ..., 0., 0., 0.],\n",
      "        ...,\n",
      "        [0., 0., 0.,  ..., 0., 0., 0.],\n",
      "        [0., 0., 0.,  ..., 0., 0., 0.],\n",
      "        [0., 0., 0.,  ..., 0., 0., 0.]])\n"
     ]
    }
   ],
   "source": [
    "# Define the learning rate\n",
    "lr = 0.02\n",
    "\n",
    "# Define the optimizer\n",
    "optimizer = optim.SGD(model.parameters(), lr=lr)\n",
    "\n",
    "# Define the loss function\n",
    "criterion = nn.CrossEntropyLoss()\n",
    "\n",
    "print(inputs.view(inputs.size(0), -1))"
   ]
  },
  {
   "cell_type": "markdown",
   "id": "c433de7a",
   "metadata": {},
   "source": [
    "## 7. Training"
   ]
  },
  {
   "cell_type": "code",
   "execution_count": 42,
   "id": "44b23d51",
   "metadata": {},
   "outputs": [
    {
     "name": "stdout",
     "output_type": "stream",
     "text": [
      "Unexpected exception formatting exception. Falling back to standard exception\n"
     ]
    },
    {
     "name": "stderr",
     "output_type": "stream",
     "text": [
      "Traceback (most recent call last):\n",
      "  File \"/Users/maxsivry/anaconda3/lib/python3.11/site-packages/IPython/core/interactiveshell.py\", line 3505, in run_code\n",
      "    exec(code_obj, self.user_global_ns, self.user_ns)\n",
      "  File \"/var/folders/16/pyq7sqpn54lf7hj_4295jgnm0000gn/T/ipykernel_45296/729612413.py\", line 11, in <module>\n",
      "    outputs = model(inputs)\n",
      "              ^^^^^^^^^^^^^\n",
      "  File \"/Users/maxsivry/anaconda3/lib/python3.11/site-packages/torch/nn/modules/module.py\", line 1511, in _wrapped_call_impl\n",
      "    return self._call_impl(*args, **kwargs)\n",
      "           ^^^^^^^^^^^^^^^^^^^^^^^^^^^^^^^^\n",
      "  File \"/Users/maxsivry/anaconda3/lib/python3.11/site-packages/torch/nn/modules/module.py\", line 1520, in _call_impl\n",
      "    return forward_call(*args, **kwargs)\n",
      "           ^^^^^^^^^^^^^^^^^^^^^^^^^^^^^\n",
      "  File \"/Users/maxsivry/anaconda3/lib/python3.11/site-packages/torch/nn/modules/container.py\", line 217, in forward\n",
      "    input = module(input)\n",
      "            ^^^^^^^^^^^^^\n",
      "  File \"/Users/maxsivry/anaconda3/lib/python3.11/site-packages/torch/nn/modules/module.py\", line 1511, in _wrapped_call_impl\n",
      "    return self._call_impl(*args, **kwargs)\n",
      "           ^^^^^^^^^^^^^^^^^^^^^^^^^^^^^^^^\n",
      "  File \"/Users/maxsivry/anaconda3/lib/python3.11/site-packages/torch/nn/modules/module.py\", line 1520, in _call_impl\n",
      "    return forward_call(*args, **kwargs)\n",
      "           ^^^^^^^^^^^^^^^^^^^^^^^^^^^^^\n",
      "  File \"/Users/maxsivry/anaconda3/lib/python3.11/site-packages/pennylane/qnn/torch.py\", line 309, in forward\n",
      "    reconstructor = [self.forward(x) for x in torch.unbind(inputs)]\n",
      "                    ^^^^^^^^^^^^^^^^^^^^^^^^^^^^^^^^^^^^^^^^^^^^^^^\n",
      "  File \"/Users/maxsivry/anaconda3/lib/python3.11/site-packages/pennylane/qnn/torch.py\", line 309, in <listcomp>\n",
      "    reconstructor = [self.forward(x) for x in torch.unbind(inputs)]\n",
      "                     ^^^^^^^^^^^^^^^\n",
      "  File \"/Users/maxsivry/anaconda3/lib/python3.11/site-packages/pennylane/qnn/torch.py\", line 313, in forward\n",
      "    return self._evaluate_qnode(inputs)\n",
      "           ^^^^^^^^^^^^^^^^^^^^^^^^^^^^\n",
      "  File \"/Users/maxsivry/anaconda3/lib/python3.11/site-packages/pennylane/qnn/torch.py\", line 328, in _evaluate_qnode\n",
      "    return self.qnode(**kwargs).type(x.dtype)\n",
      "           ^^^^^^^^^^^^^^^^^^^^\n",
      "  File \"/Users/maxsivry/anaconda3/lib/python3.11/site-packages/pennylane/qnode.py\", line 606, in __call__\n",
      "  File \"/Users/maxsivry/anaconda3/lib/python3.11/site-packages/pennylane/qnode.py\", line 548, in construct\n",
      "    \"'device', 'adjoint', 'spsa', 'hadamard').\"\n",
      "    ^^^^^^^^^^^^^^^^^^^^^^^^^^^^^^^^^^^^^^^^\n",
      "  File \"/Users/maxsivry/anaconda3/lib/python3.11/site-packages/pennylane/qnode.py\", line 877, in to_torch\n",
      "  File \"/Users/maxsivry/anaconda3/lib/python3.11/site-packages/pennylane/interfaces/torch.py\", line 24, in <module>\n",
      "    from pennylane.measurements import CountsMP\n",
      "  File \"/Users/maxsivry/anaconda3/lib/python3.11/site-packages/pennylane/measurements/__init__.py\", line 192, in <module>\n",
      "    from .classical_shadow import ClassicalShadowMP, ShadowExpvalMP, classical_shadow, shadow_expval\n",
      "  File \"/Users/maxsivry/anaconda3/lib/python3.11/site-packages/pennylane/measurements/classical_shadow.py\", line 26, in <module>\n",
      "    from .measurements import MeasurementShapeError, MeasurementTransform, Shadow, ShadowExpval\n",
      "  File \"/Users/maxsivry/anaconda3/lib/python3.11/site-packages/pennylane/measurements/measurements.py\", line 109, in <module>\n",
      "    class MeasurementProcess(ABC):\n",
      "  File \"/Users/maxsivry/anaconda3/lib/python3.11/site-packages/pennylane/measurements/measurements.py\", line 415, in MeasurementProcess\n",
      "    def queue(self, context=qml.QueuingManager):\n",
      "                            ^^^^^^^^^^^^^^^^^^\n",
      "AttributeError: module 'pennylane' has no attribute 'QueuingManager'\n",
      "\n",
      "During handling of the above exception, another exception occurred:\n",
      "\n",
      "Traceback (most recent call last):\n",
      "  File \"/Users/maxsivry/anaconda3/lib/python3.11/site-packages/IPython/core/interactiveshell.py\", line 2102, in showtraceback\n",
      "    stb = self.InteractiveTB.structured_traceback(\n",
      "          ^^^^^^^^^^^^^^^^^^^^^^^^^^^^^^^^^^^^^^^^\n",
      "  File \"/Users/maxsivry/anaconda3/lib/python3.11/site-packages/IPython/core/ultratb.py\", line 1310, in structured_traceback\n",
      "    return FormattedTB.structured_traceback(\n",
      "           ^^^^^^^^^^^^^^^^^^^^^^^^^^^^^^^^^\n",
      "  File \"/Users/maxsivry/anaconda3/lib/python3.11/site-packages/IPython/core/ultratb.py\", line 1199, in structured_traceback\n",
      "    return VerboseTB.structured_traceback(\n",
      "           ^^^^^^^^^^^^^^^^^^^^^^^^^^^^^^^\n",
      "  File \"/Users/maxsivry/anaconda3/lib/python3.11/site-packages/IPython/core/ultratb.py\", line 1052, in structured_traceback\n",
      "    formatted_exception = self.format_exception_as_a_whole(etype, evalue, etb, number_of_lines_of_context,\n",
      "                          ^^^^^^^^^^^^^^^^^^^^^^^^^^^^^^^^^^^^^^^^^^^^^^^^^^^^^^^^^^^^^^^^^^^^^^^^^^^^^^^^\n",
      "  File \"/Users/maxsivry/anaconda3/lib/python3.11/site-packages/IPython/core/ultratb.py\", line 978, in format_exception_as_a_whole\n",
      "    frames.append(self.format_record(record))\n",
      "                  ^^^^^^^^^^^^^^^^^^^^^^^^^^\n",
      "  File \"/Users/maxsivry/anaconda3/lib/python3.11/site-packages/IPython/core/ultratb.py\", line 878, in format_record\n",
      "    frame_info.lines, Colors, self.has_colors, lvals\n",
      "    ^^^^^^^^^^^^^^^^\n",
      "  File \"/Users/maxsivry/anaconda3/lib/python3.11/site-packages/IPython/core/ultratb.py\", line 712, in lines\n",
      "    return self._sd.lines\n",
      "           ^^^^^^^^^^^^^^\n",
      "  File \"/Users/maxsivry/anaconda3/lib/python3.11/site-packages/stack_data/utils.py\", line 145, in cached_property_wrapper\n",
      "    value = obj.__dict__[self.func.__name__] = self.func(obj)\n",
      "                                               ^^^^^^^^^^^^^^\n",
      "  File \"/Users/maxsivry/anaconda3/lib/python3.11/site-packages/stack_data/core.py\", line 698, in lines\n",
      "    pieces = self.included_pieces\n",
      "             ^^^^^^^^^^^^^^^^^^^^\n",
      "  File \"/Users/maxsivry/anaconda3/lib/python3.11/site-packages/stack_data/utils.py\", line 145, in cached_property_wrapper\n",
      "    value = obj.__dict__[self.func.__name__] = self.func(obj)\n",
      "                                               ^^^^^^^^^^^^^^\n",
      "  File \"/Users/maxsivry/anaconda3/lib/python3.11/site-packages/stack_data/core.py\", line 649, in included_pieces\n",
      "    pos = scope_pieces.index(self.executing_piece)\n",
      "                             ^^^^^^^^^^^^^^^^^^^^\n",
      "  File \"/Users/maxsivry/anaconda3/lib/python3.11/site-packages/stack_data/utils.py\", line 145, in cached_property_wrapper\n",
      "    value = obj.__dict__[self.func.__name__] = self.func(obj)\n",
      "                                               ^^^^^^^^^^^^^^\n",
      "  File \"/Users/maxsivry/anaconda3/lib/python3.11/site-packages/stack_data/core.py\", line 628, in executing_piece\n",
      "    return only(\n",
      "           ^^^^^\n",
      "  File \"/Users/maxsivry/anaconda3/lib/python3.11/site-packages/executing/executing.py\", line 164, in only\n",
      "    raise NotOneValueFound('Expected one value, found 0')\n",
      "executing.executing.NotOneValueFound: Expected one value, found 0\n"
     ]
    }
   ],
   "source": [
    "epochs = 70\n",
    "for epoch in range(epochs):\n",
    "    model.train()\n",
    "    running_loss = 0.0\n",
    "    correct = 0\n",
    "    total = 0\n",
    "\n",
    "    for inputs, labels in trainloader:\n",
    "        inputs = inputs.view(inputs.size(0), -1) \n",
    "        optimizer.zero_grad()\n",
    "        outputs = model(inputs)\n",
    "        loss = criterion(outputs, labels)\n",
    "        loss.backward()\n",
    "        optimizer.step()\n",
    "\n",
    "        running_loss += loss.item()\n",
    "        _, predicted = torch.max(outputs, 1)\n",
    "        total += labels.size(0)\n",
    "        correct += (predicted == labels).sum().item()\n",
    "\n",
    "    epoch_loss = running_loss / len(trainloader)\n",
    "    epoch_acc = 100 * correct / total\n",
    "    print(f\"Epoch {epoch+1}/{epochs}, Loss: {epoch_loss:.4f}, Accuracy: {epoch_acc:.2f}%\")\n",
    "\n",
    "    model.eval()\n",
    "    val_loss = 0.0\n",
    "    val_correct = 0\n",
    "    val_total = 0\n",
    "\n",
    "    with torch.no_grad():\n",
    "        for val_inputs, val_labels in testloader:\n",
    "            val_outputs = model(val_inputs)\n",
    "            val_loss += criterion(val_outputs, val_labels).item()\n",
    "            _, val_predicted = torch.max(val_outputs, 1)\n",
    "            val_total += val_labels.size(0)\n",
    "            val_correct += (val_predicted == val_labels).sum().item()\n",
    "\n",
    "    val_loss /= len(testloader)\n",
    "    val_acc = 100 * val_correct / val_total\n",
    "    print(f\"Validation Loss: {val_loss:.4f}, Validation Accuracy: {val_acc:.2f}%\")"
   ]
  },
  {
   "cell_type": "code",
   "execution_count": 34,
   "id": "07a2a88f",
   "metadata": {},
   "outputs": [
    {
     "data": {
      "text/html": [
       "<pre style=\"white-space:pre;overflow-x:auto;line-height:normal;font-family:Menlo,'DejaVu Sans Mono',consolas,'Courier New',monospace\"><span style=\"font-weight: bold\">Model: \"sequential_1\"</span>\n",
       "</pre>\n"
      ],
      "text/plain": [
       "\u001b[1mModel: \"sequential_1\"\u001b[0m\n"
      ]
     },
     "metadata": {},
     "output_type": "display_data"
    },
    {
     "data": {
      "text/html": [
       "<pre style=\"white-space:pre;overflow-x:auto;line-height:normal;font-family:Menlo,'DejaVu Sans Mono',consolas,'Courier New',monospace\">┏━━━━━━━━━━━━━━━━━━━━━━━━━━━━━━━━━┳━━━━━━━━━━━━━━━━━━━━━━━━┳━━━━━━━━━━━━━━━┓\n",
       "┃<span style=\"font-weight: bold\"> Layer (type)                    </span>┃<span style=\"font-weight: bold\"> Output Shape           </span>┃<span style=\"font-weight: bold\">       Param # </span>┃\n",
       "┡━━━━━━━━━━━━━━━━━━━━━━━━━━━━━━━━━╇━━━━━━━━━━━━━━━━━━━━━━━━╇━━━━━━━━━━━━━━━┩\n",
       "│ flatten_1 (<span style=\"color: #0087ff; text-decoration-color: #0087ff\">Flatten</span>)             │ (<span style=\"color: #00d7ff; text-decoration-color: #00d7ff\">None</span>, <span style=\"color: #00af00; text-decoration-color: #00af00\">784</span>)            │             <span style=\"color: #00af00; text-decoration-color: #00af00\">0</span> │\n",
       "├─────────────────────────────────┼────────────────────────┼───────────────┤\n",
       "│ dense_5 (<span style=\"color: #0087ff; text-decoration-color: #0087ff\">Dense</span>)                 │ (<span style=\"color: #00d7ff; text-decoration-color: #00d7ff\">None</span>, <span style=\"color: #00af00; text-decoration-color: #00af00\">392</span>)            │       <span style=\"color: #00af00; text-decoration-color: #00af00\">307,720</span> │\n",
       "├─────────────────────────────────┼────────────────────────┼───────────────┤\n",
       "│ dense_6 (<span style=\"color: #0087ff; text-decoration-color: #0087ff\">Dense</span>)                 │ (<span style=\"color: #00d7ff; text-decoration-color: #00d7ff\">None</span>, <span style=\"color: #00af00; text-decoration-color: #00af00\">196</span>)            │        <span style=\"color: #00af00; text-decoration-color: #00af00\">77,028</span> │\n",
       "├─────────────────────────────────┼────────────────────────┼───────────────┤\n",
       "│ dense_7 (<span style=\"color: #0087ff; text-decoration-color: #0087ff\">Dense</span>)                 │ (<span style=\"color: #00d7ff; text-decoration-color: #00d7ff\">None</span>, <span style=\"color: #00af00; text-decoration-color: #00af00\">98</span>)             │        <span style=\"color: #00af00; text-decoration-color: #00af00\">19,306</span> │\n",
       "├─────────────────────────────────┼────────────────────────┼───────────────┤\n",
       "│ dense_8 (<span style=\"color: #0087ff; text-decoration-color: #0087ff\">Dense</span>)                 │ (<span style=\"color: #00d7ff; text-decoration-color: #00d7ff\">None</span>, <span style=\"color: #00af00; text-decoration-color: #00af00\">49</span>)             │         <span style=\"color: #00af00; text-decoration-color: #00af00\">4,851</span> │\n",
       "├─────────────────────────────────┼────────────────────────┼───────────────┤\n",
       "│ dense_9 (<span style=\"color: #0087ff; text-decoration-color: #0087ff\">Dense</span>)                 │ (<span style=\"color: #00d7ff; text-decoration-color: #00d7ff\">None</span>, <span style=\"color: #00af00; text-decoration-color: #00af00\">30</span>)             │         <span style=\"color: #00af00; text-decoration-color: #00af00\">1,500</span> │\n",
       "└─────────────────────────────────┴────────────────────────┴───────────────┘\n",
       "</pre>\n"
      ],
      "text/plain": [
       "┏━━━━━━━━━━━━━━━━━━━━━━━━━━━━━━━━━┳━━━━━━━━━━━━━━━━━━━━━━━━┳━━━━━━━━━━━━━━━┓\n",
       "┃\u001b[1m \u001b[0m\u001b[1mLayer (type)                   \u001b[0m\u001b[1m \u001b[0m┃\u001b[1m \u001b[0m\u001b[1mOutput Shape          \u001b[0m\u001b[1m \u001b[0m┃\u001b[1m \u001b[0m\u001b[1m      Param #\u001b[0m\u001b[1m \u001b[0m┃\n",
       "┡━━━━━━━━━━━━━━━━━━━━━━━━━━━━━━━━━╇━━━━━━━━━━━━━━━━━━━━━━━━╇━━━━━━━━━━━━━━━┩\n",
       "│ flatten_1 (\u001b[38;5;33mFlatten\u001b[0m)             │ (\u001b[38;5;45mNone\u001b[0m, \u001b[38;5;34m784\u001b[0m)            │             \u001b[38;5;34m0\u001b[0m │\n",
       "├─────────────────────────────────┼────────────────────────┼───────────────┤\n",
       "│ dense_5 (\u001b[38;5;33mDense\u001b[0m)                 │ (\u001b[38;5;45mNone\u001b[0m, \u001b[38;5;34m392\u001b[0m)            │       \u001b[38;5;34m307,720\u001b[0m │\n",
       "├─────────────────────────────────┼────────────────────────┼───────────────┤\n",
       "│ dense_6 (\u001b[38;5;33mDense\u001b[0m)                 │ (\u001b[38;5;45mNone\u001b[0m, \u001b[38;5;34m196\u001b[0m)            │        \u001b[38;5;34m77,028\u001b[0m │\n",
       "├─────────────────────────────────┼────────────────────────┼───────────────┤\n",
       "│ dense_7 (\u001b[38;5;33mDense\u001b[0m)                 │ (\u001b[38;5;45mNone\u001b[0m, \u001b[38;5;34m98\u001b[0m)             │        \u001b[38;5;34m19,306\u001b[0m │\n",
       "├─────────────────────────────────┼────────────────────────┼───────────────┤\n",
       "│ dense_8 (\u001b[38;5;33mDense\u001b[0m)                 │ (\u001b[38;5;45mNone\u001b[0m, \u001b[38;5;34m49\u001b[0m)             │         \u001b[38;5;34m4,851\u001b[0m │\n",
       "├─────────────────────────────────┼────────────────────────┼───────────────┤\n",
       "│ dense_9 (\u001b[38;5;33mDense\u001b[0m)                 │ (\u001b[38;5;45mNone\u001b[0m, \u001b[38;5;34m30\u001b[0m)             │         \u001b[38;5;34m1,500\u001b[0m │\n",
       "└─────────────────────────────────┴────────────────────────┴───────────────┘\n"
      ]
     },
     "metadata": {},
     "output_type": "display_data"
    },
    {
     "data": {
      "text/html": [
       "<pre style=\"white-space:pre;overflow-x:auto;line-height:normal;font-family:Menlo,'DejaVu Sans Mono',consolas,'Courier New',monospace\"><span style=\"font-weight: bold\"> Total params: </span><span style=\"color: #00af00; text-decoration-color: #00af00\">410,405</span> (1.57 MB)\n",
       "</pre>\n"
      ],
      "text/plain": [
       "\u001b[1m Total params: \u001b[0m\u001b[38;5;34m410,405\u001b[0m (1.57 MB)\n"
      ]
     },
     "metadata": {},
     "output_type": "display_data"
    },
    {
     "data": {
      "text/html": [
       "<pre style=\"white-space:pre;overflow-x:auto;line-height:normal;font-family:Menlo,'DejaVu Sans Mono',consolas,'Courier New',monospace\"><span style=\"font-weight: bold\"> Trainable params: </span><span style=\"color: #00af00; text-decoration-color: #00af00\">410,405</span> (1.57 MB)\n",
       "</pre>\n"
      ],
      "text/plain": [
       "\u001b[1m Trainable params: \u001b[0m\u001b[38;5;34m410,405\u001b[0m (1.57 MB)\n"
      ]
     },
     "metadata": {},
     "output_type": "display_data"
    },
    {
     "data": {
      "text/html": [
       "<pre style=\"white-space:pre;overflow-x:auto;line-height:normal;font-family:Menlo,'DejaVu Sans Mono',consolas,'Courier New',monospace\"><span style=\"font-weight: bold\"> Non-trainable params: </span><span style=\"color: #00af00; text-decoration-color: #00af00\">0</span> (0.00 B)\n",
       "</pre>\n"
      ],
      "text/plain": [
       "\u001b[1m Non-trainable params: \u001b[0m\u001b[38;5;34m0\u001b[0m (0.00 B)\n"
      ]
     },
     "metadata": {},
     "output_type": "display_data"
    }
   ],
   "source": [
    "model.summary()"
   ]
  },
  {
   "cell_type": "markdown",
   "id": "49b07412",
   "metadata": {},
   "source": [
    "## 8. Loss and accuracy graphs"
   ]
  },
  {
   "cell_type": "code",
   "execution_count": 44,
   "id": "cfd7c39c",
   "metadata": {},
   "outputs": [
    {
     "ename": "NameError",
     "evalue": "name 'hybrid' is not defined",
     "output_type": "error",
     "traceback": [
      "\u001b[0;31m---------------------------------------------------------------------------\u001b[0m",
      "\u001b[0;31mNameError\u001b[0m                                 Traceback (most recent call last)",
      "Cell \u001b[0;32mIn[44], line 6\u001b[0m\n\u001b[1;32m      1\u001b[0m \u001b[38;5;66;03m# ===================================================================================\u001b[39;00m\n\u001b[1;32m      2\u001b[0m \u001b[38;5;66;03m#                                  Loss History Plot\u001b[39;00m\n\u001b[1;32m      3\u001b[0m \u001b[38;5;66;03m# ===================================================================================\u001b[39;00m\n\u001b[1;32m      5\u001b[0m plt\u001b[38;5;241m.\u001b[39mtitle(\u001b[38;5;124m'\u001b[39m\u001b[38;5;124mmodel loss\u001b[39m\u001b[38;5;124m'\u001b[39m)\n\u001b[0;32m----> 6\u001b[0m plt\u001b[38;5;241m.\u001b[39mplot(hybrid\u001b[38;5;241m.\u001b[39mhistory[\u001b[38;5;124m'\u001b[39m\u001b[38;5;124mloss\u001b[39m\u001b[38;5;124m'\u001b[39m], \u001b[38;5;124m'\u001b[39m\u001b[38;5;124m-g\u001b[39m\u001b[38;5;124m'\u001b[39m)\n\u001b[1;32m      7\u001b[0m plt\u001b[38;5;241m.\u001b[39mylabel(\u001b[38;5;124m'\u001b[39m\u001b[38;5;124mloss\u001b[39m\u001b[38;5;124m'\u001b[39m)\n\u001b[1;32m      8\u001b[0m plt\u001b[38;5;241m.\u001b[39mshow()\n",
      "\u001b[0;31mNameError\u001b[0m: name 'hybrid' is not defined"
     ]
    },
    {
     "data": {
      "image/png": "[encoded data removed]",
      "text/plain": [
       "<Figure size 640x480 with 1 Axes>"
      ]
     },
     "metadata": {},
     "output_type": "display_data"
    }
   ],
   "source": [
    "# ===================================================================================\n",
    "#                                  Loss History Plot\n",
    "# ===================================================================================\n",
    "\n",
    "plt.title('model loss')\n",
    "plt.plot(hybrid.history['loss'], '-g')\n",
    "plt.ylabel('loss')\n",
    "plt.show()"
   ]
  },
  {
   "cell_type": "code",
   "execution_count": 45,
   "id": "cc6435a2",
   "metadata": {},
   "outputs": [
    {
     "ename": "NameError",
     "evalue": "name 'hybrid' is not defined",
     "output_type": "error",
     "traceback": [
      "\u001b[0;31m---------------------------------------------------------------------------\u001b[0m",
      "\u001b[0;31mNameError\u001b[0m                                 Traceback (most recent call last)",
      "Cell \u001b[0;32mIn[45], line 6\u001b[0m\n\u001b[1;32m      1\u001b[0m \u001b[38;5;66;03m# ===================================================================================\u001b[39;00m\n\u001b[1;32m      2\u001b[0m \u001b[38;5;66;03m#                                Accuracy History Plot\u001b[39;00m\n\u001b[1;32m      3\u001b[0m \u001b[38;5;66;03m# ===================================================================================\u001b[39;00m\n\u001b[1;32m      5\u001b[0m plt\u001b[38;5;241m.\u001b[39mtitle(\u001b[38;5;124m'\u001b[39m\u001b[38;5;124mmodel accuracy\u001b[39m\u001b[38;5;124m'\u001b[39m)\n\u001b[0;32m----> 6\u001b[0m plt\u001b[38;5;241m.\u001b[39mplot(hybrid\u001b[38;5;241m.\u001b[39mhistory[\u001b[38;5;124m'\u001b[39m\u001b[38;5;124maccuracy\u001b[39m\u001b[38;5;124m'\u001b[39m], \u001b[38;5;124m'\u001b[39m\u001b[38;5;124m-g\u001b[39m\u001b[38;5;124m'\u001b[39m)\n\u001b[1;32m      7\u001b[0m plt\u001b[38;5;241m.\u001b[39mylabel(\u001b[38;5;124m'\u001b[39m\u001b[38;5;124maccuracy\u001b[39m\u001b[38;5;124m'\u001b[39m)\n\u001b[1;32m      8\u001b[0m plt\u001b[38;5;241m.\u001b[39mshow()\n",
      "\u001b[0;31mNameError\u001b[0m: name 'hybrid' is not defined"
     ]
    },
    {
     "data": {
      "image/png": "[encoded data removed]",
      "text/plain": [
       "<Figure size 640x480 with 1 Axes>"
      ]
     },
     "metadata": {},
     "output_type": "display_data"
    }
   ],
   "source": [
    "# ===================================================================================\n",
    "#                                Accuracy History Plot\n",
    "# ===================================================================================\n",
    "\n",
    "plt.title('model accuracy')\n",
    "plt.plot(hybrid.history['accuracy'], '-g')\n",
    "plt.ylabel('accuracy')\n",
    "plt.show()"
   ]
  },
  {
   "cell_type": "code",
   "execution_count": null,
   "id": "3c1acd88",
   "metadata": {},
   "outputs": [],
   "source": []
  }
 ],
 "metadata": {
  "kernelspec": {
   "display_name": "Python 3 (ipykernel)",
   "language": "python",
   "name": "python3"
  },
  "language_info": {
   "codemirror_mode": {
    "name": "ipython",
    "version": 3
   },
   "file_extension": ".py",
   "mimetype": "text/x-python",
   "name": "python",
   "nbconvert_exporter": "python",
   "pygments_lexer": "ipython3",
   "version": "3.11.4"
  }
 },
 "nbformat": 4,
 "nbformat_minor": 5
}
